{
  "nbformat": 4,
  "nbformat_minor": 0,
  "metadata": {
    "colab": {
      "provenance": [],
      "authorship_tag": "ABX9TyM9COH2nQ7sBtZPRRqMuopT",
      "include_colab_link": true
    },
    "kernelspec": {
      "name": "python3",
      "display_name": "Python 3"
    },
    "language_info": {
      "name": "python"
    }
  },
  "cells": [
    {
      "cell_type": "markdown",
      "metadata": {
        "id": "view-in-github",
        "colab_type": "text"
      },
      "source": [
        "<a href=\"https://colab.research.google.com/github/Msftiskay/Artificial_intelligence/blob/main/Untitled4.ipynb\" target=\"_parent\"><img src=\"https://colab.research.google.com/assets/colab-badge.svg\" alt=\"Open In Colab\"/></a>"
      ]
    },
    {
      "cell_type": "code",
      "source": [
        "from sklearn.model_selection import train_test_split\n",
        "from sklearn.model_selection import KFold\n",
        "from sklearn.model_selection import cross_val_score\n",
        "from sklearn.neighbors import KNeighborsClassifier\n",
        "import numpy as np"
      ],
      "metadata": {
        "id": "223vCRcrL_wz"
      },
      "execution_count": 4,
      "outputs": []
    },
    {
      "cell_type": "code",
      "source": [
        "train_data = [\n",
        "[150, 1, 8],\n",
        "[170, 1, 9],\n",
        "[140, 2, 7],\n",
        "[130, 2, 6],\n",
        "[160, 3, 10],\n",
        "[155, 3, 9]\n",
        "]\n",
        "train_labels = ['apple', 'apple', 'orange', 'orange', 'banana',\n",
        "'banana']\n",
        "test_data = [145, 1, 8]\n",
        "test_label = ['apple']\n",
        "colour = {\n",
        "1: \"red\",\n",
        "2: \"orange\",\n",
        "3: \"yellow\"\n",
        "}\n",
        "kf = KFold(n_splits=5, random_state=10, shuffle=True)"
      ],
      "metadata": {
        "id": "EbfsTN5iM0ZF"
      },
      "execution_count": 5,
      "outputs": []
    },
    {
      "cell_type": "code",
      "source": [
        "cvalidation = []\n",
        "k_range = [1, 2, 3, 4]\n",
        "for k in k_range:\n",
        "  knn = KNeighborsClassifier(n_neighbors=k)\n",
        "scores = cross_val_score(knn, train_data, train_labels, cv=kf,\n",
        "scoring='accuracy')\n",
        "cvalidation.append(np.mean(scores))\n",
        "best_mean = 0\n",
        "index = 0\n",
        "for i in range(0, len(cvalidation)):\n",
        "  if cvalidation[i] >= best_mean:\n",
        "    best_mean = cvalidation[i]\n",
        "index = i\n",
        "optimal_k = k_range[index]\n",
        "print(f\"Best K: {optimal_k}\")\n",
        "knn = KNeighborsClassifier(n_neighbors=optimal_k)\n",
        "knn.fit(train_data, train_labels)\n",
        "prediction = knn.predict([test_data])\n",
        "print(f\"Predicted for the test data {test_data}:{prediction[0]}\")"
      ],
      "metadata": {
        "colab": {
          "base_uri": "https://localhost:8080/"
        },
        "id": "T7XP76GvNqBH",
        "outputId": "26ce5834-5cb1-4792-9b7d-76895d4bcd71"
      },
      "execution_count": 15,
      "outputs": [
        {
          "output_type": "stream",
          "name": "stdout",
          "text": [
            "Best K: 1\n",
            "Predicted for the test data [145, 1, 8]:apple\n"
          ]
        }
      ]
    },
    {
      "cell_type": "code",
      "source": [
        "knn_og = KNeighborsClassifier(n_neighbors=optimal_k)\n",
        "knn_og.fit(train_data, train_labels)\n",
        "predictions = knn_og.predict([test_data])\n",
        "print(f\"Predicted for the test data {test_data}:{predictions[0]}\")"
      ],
      "metadata": {
        "colab": {
          "base_uri": "https://localhost:8080/"
        },
        "id": "cXn09y5nO6d3",
        "outputId": "bae2c9e8-b6f1-4aff-e177-f965441ccbfa"
      },
      "execution_count": 16,
      "outputs": [
        {
          "output_type": "stream",
          "name": "stdout",
          "text": [
            "Predicted for the test data [145, 1, 8]:apple\n"
          ]
        }
      ]
    }
  ]
}
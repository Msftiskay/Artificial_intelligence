{
  "nbformat": 4,
  "nbformat_minor": 0,
  "metadata": {
    "colab": {
      "provenance": [],
      "authorship_tag": "ABX9TyPVQCSkQG8ouDxTvjnQ8Bzv",
      "include_colab_link": true
    },
    "kernelspec": {
      "name": "python3",
      "display_name": "Python 3"
    },
    "language_info": {
      "name": "python"
    }
  },
  "cells": [
    {
      "cell_type": "markdown",
      "metadata": {
        "id": "view-in-github",
        "colab_type": "text"
      },
      "source": [
        "<a href=\"https://colab.research.google.com/github/Msftiskay/Artificial_intelligence/blob/main/Make_up.ipynb\" target=\"_parent\"><img src=\"https://colab.research.google.com/assets/colab-badge.svg\" alt=\"Open In Colab\"/></a>"
      ]
    },
    {
      "cell_type": "code",
      "source": [
        "from sklearn.model_selection import train_test_split\n",
        "from sklearn.model_selection import KFold\n",
        "from sklearn.model_selection import cross_val_score\n",
        "from sklearn.neighbors import KNeighborsClassifier\n",
        "import numpy as np"
      ],
      "metadata": {
        "id": "223vCRcrL_wz"
      },
      "execution_count": 27,
      "outputs": []
    },
    {
      "cell_type": "code",
      "source": [
        "train_data = [\n",
        "[150, 1, 8],\n",
        "[170, 1, 9],\n",
        "[140, 2, 7],\n",
        "[130, 2, 6],\n",
        "[160, 3, 10],\n",
        "[155, 3, 9]\n",
        "]\n",
        "train_labels = ['apple', 'apple', 'orange', 'orange', 'banana',\n",
        "'banana']\n",
        "test_data = [145, 1, 8]\n",
        "test_label = ['apple']\n",
        "colour = {\n",
        "1: \"red\",\n",
        "2: \"orange\",\n",
        "3: \"yellow\"\n",
        "}\n",
        "kf = KFold(n_splits=5, random_state=10, shuffle=True)"
      ],
      "metadata": {
        "id": "EbfsTN5iM0ZF"
      },
      "execution_count": 28,
      "outputs": []
    },
    {
      "cell_type": "code",
      "source": [
        "cvalidation = []\n",
        "k_range = [1, 2, 3, 4]\n",
        "for k in k_range:\n",
        "  knn = KNeighborsClassifier(n_neighbors=k)\n",
        "scores = cross_val_score(knn, train_data, train_labels, cv=kf,\n",
        "scoring='accuracy')\n",
        "cvalidation.append(np.mean(scores))\n",
        "best_mean = 0\n",
        "index = 0\n",
        "for i in range(0, len(cvalidation)):\n",
        "  if cvalidation[i] >= best_mean:\n",
        "    best_mean = cvalidation[i]\n",
        "index = i\n",
        "optimal_k = k_range[index]\n",
        "print(f\"Best K: {optimal_k}\")\n",
        "knn = KNeighborsClassifier(n_neighbors=optimal_k)\n",
        "knn.fit(train_data, train_labels)\n",
        "prediction = knn.predict([test_data])\n",
        "print(f\"Predicted for the test data {test_data}:{prediction[0]}\")"
      ],
      "metadata": {
        "colab": {
          "base_uri": "https://localhost:8080/"
        },
        "id": "T7XP76GvNqBH",
        "outputId": "37a284ea-99fd-4a76-c34c-4f7e7185c2d2"
      },
      "execution_count": 29,
      "outputs": [
        {
          "output_type": "stream",
          "name": "stdout",
          "text": [
            "Best K: 1\n",
            "Predicted for the test data [145, 1, 8]:apple\n"
          ]
        }
      ]
    },
    {
      "cell_type": "code",
      "source": [
        "knn_og = KNeighborsClassifier(n_neighbors=optimal_k)\n",
        "knn_og.fit(train_data, train_labels)\n",
        "predictions = knn_og.predict([test_data])\n",
        "print(f\"Predicted for the test data {test_data}:{predictions[0]}\")"
      ],
      "metadata": {
        "colab": {
          "base_uri": "https://localhost:8080/"
        },
        "id": "cXn09y5nO6d3",
        "outputId": "650d0782-33e0-4a9b-8be7-d522017e52fe"
      },
      "execution_count": 37,
      "outputs": [
        {
          "output_type": "stream",
          "name": "stdout",
          "text": [
            "Predicted for the test data [145, 1, 8]:apple\n"
          ]
        }
      ]
    },
    {
      "cell_type": "code",
      "source": [
        "reduced_training_data = np.array(train_data)[:, 1].reshape(-1, 1)\n",
        "reduced_testing_data = np.array(test_data)[1].reshape(-1, 1)\n",
        "knn_reduced = KNeighborsClassifier(n_neighbors=3)\n",
        "knn_reduced.fit(reduced_training_data, train_labels)\n",
        "reduced_prediction = knn_reduced.predict(reduced_testing_data)\n",
        "print(f\"Prediction on reduced data: {reduced_prediction[0]}\")"
      ],
      "metadata": {
        "colab": {
          "base_uri": "https://localhost:8080/"
        },
        "id": "hZkAoZVSe3P_",
        "outputId": "de4c9557-5be1-4fd7-fc37-88f5b5344497"
      },
      "execution_count": 38,
      "outputs": [
        {
          "output_type": "stream",
          "name": "stdout",
          "text": [
            "Prediction on reduced data: apple\n"
          ]
        }
      ]
    },
    {
      "cell_type": "code",
      "source": [
        "# Cross validation comparison\n",
        "kf = KFold(n_splits=3, random_state=42, shuffle=True)\n",
        "original_scores = cross_val_score(knn_og, train_data, train_labels,\n",
        "cv=kf, scoring='accuracy')\n",
        "reduced_scores = cross_val_score(knn_reduced, reduced_training_data,\n",
        "train_labels, cv=kf, scoring='accuracy')"
      ],
      "metadata": {
        "id": "ErGjXqgdoDGf"
      },
      "execution_count": 39,
      "outputs": []
    },
    {
      "cell_type": "code",
      "source": [
        "print(f\"Cross-validated accuracy on original data:{np.mean(original_scores):%}\")\n",
        "print(f\"Cross-validated accuracy on reduced data:{np.mean(reduced_scores):%}\")"
      ],
      "metadata": {
        "colab": {
          "base_uri": "https://localhost:8080/"
        },
        "id": "VkwqJHXKoOfh",
        "outputId": "de6d9a95-3ca1-44c1-9876-2ee3ccd8063b"
      },
      "execution_count": 41,
      "outputs": [
        {
          "output_type": "stream",
          "name": "stdout",
          "text": [
            "Cross-validated accuracy on original data:66.666667%\n",
            "Cross-validated accuracy on reduced data:0.000000%\n"
          ]
        }
      ]
    },
    {
      "cell_type": "code",
      "source": [
        "'''A more formal approach called PCA can be used to preserve variance\n",
        "in the data as dropping columns arbitrarily doesn't solve the issue.'''\n",
        "from sklearn.decomposition import PCA\n",
        "# Apply PCA for dimensionality reduction\n",
        "pca = PCA(n_components=2) # Reducing to 2 dimensions\n",
        "train_data_with_pca = pca.fit_transform(train_data)\n",
        "test_data_with_pca = pca.transform([test_data])\n",
        "# KNN on PCA-reduced data\n",
        "knn_pca = KNeighborsClassifier(n_neighbors=3)\n",
        "knn_pca.fit(train_data_with_pca, train_labels)\n",
        "pca_prediction = knn_pca.predict(test_data_with_pca)\n",
        "print(f\"Prediction on PCA-reduced data: {pca_prediction[0]}\")\n",
        "# Cross-validation comparison\n",
        "kf = KFold(n_splits=3, random_state=42, shuffle=True)\n",
        "original_scores = cross_val_score(knn_og, train_data, train_labels,\n",
        "cv=kf, scoring='accuracy')\n",
        "pca_scores = cross_val_score(knn_pca, train_data_with_pca, train_labels,\n",
        "cv=kf, scoring='accuracy')"
      ],
      "metadata": {
        "colab": {
          "base_uri": "https://localhost:8080/"
        },
        "id": "4-ExGcftoatg",
        "outputId": "e3be7634-5df5-44a3-b801-0ce763cb9a54"
      },
      "execution_count": 44,
      "outputs": [
        {
          "output_type": "stream",
          "name": "stdout",
          "text": [
            "Prediction on PCA-reduced data: apple\n"
          ]
        }
      ]
    },
    {
      "cell_type": "code",
      "source": [
        "print(f\"Cross-validated accuracy on original data:{np.mean(original_scores):%}\")\n",
        "print(f\"Cross-validated accuracy on PCA-reduced data:{np.mean(pca_scores):%}\")"
      ],
      "metadata": {
        "colab": {
          "base_uri": "https://localhost:8080/"
        },
        "id": "jU_QkLHcogrd",
        "outputId": "46e6539c-112e-4fca-9d73-8a98e1e2155e"
      },
      "execution_count": 43,
      "outputs": [
        {
          "output_type": "stream",
          "name": "stdout",
          "text": [
            "Cross-validated accuracy on original data:66.666667%\n",
            "Cross-validated accuracy on PCA-reduced data:0.000000%\n"
          ]
        }
      ]
    }
  ]
}